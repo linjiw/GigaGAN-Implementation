{
  "nbformat": 4,
  "nbformat_minor": 0,
  "metadata": {
    "colab": {
      "provenance": [],
      "authorship_tag": "ABX9TyO5BcQgLCMaBqodh6NydwRW",
      "include_colab_link": true
    },
    "kernelspec": {
      "name": "python3",
      "display_name": "Python 3"
    },
    "language_info": {
      "name": "python"
    },
    "accelerator": "GPU",
    "gpuClass": "standard"
  },
  "cells": [
    {
      "cell_type": "markdown",
      "metadata": {
        "id": "view-in-github",
        "colab_type": "text"
      },
      "source": [
        "<a href=\"https://colab.research.google.com/github/linjiw/GigaGAN-Implementation/blob/linjiw/16726_GigaGAN.ipynb\" target=\"_parent\"><img src=\"https://colab.research.google.com/assets/colab-badge.svg\" alt=\"Open In Colab\"/></a>"
      ]
    },
    {
      "cell_type": "markdown",
      "source": [
        "# GigaGAN Experiment"
      ],
      "metadata": {
        "id": "eoU41cElslzc"
      }
    },
    {
      "cell_type": "markdown",
      "source": [
        "## Connect to Google Drive"
      ],
      "metadata": {
        "id": "AgMr3vFWsn0Y"
      }
    },
    {
      "cell_type": "code",
      "execution_count": null,
      "metadata": {
        "id": "Atd9qFGZsa-I"
      },
      "outputs": [],
      "source": [
        "from google.colab import drive\n",
        "drive.mount('/content/drive')"
      ]
    },
    {
      "cell_type": "markdown",
      "source": [
        "## Git Clone and Install environment"
      ],
      "metadata": {
        "id": "m40B7TTSsrNy"
      }
    },
    {
      "cell_type": "code",
      "source": [
        "!git clone https://github.com/linjiw/GigaGAN-Implementation.git\n",
        "%cd GigaGAN-Implementation\n",
        "!git checkout linjiw\n",
        "## if you use pip, please install the required packages (see requirements.txt)\n",
        "!pip install -r requirements.txt -q\n",
        "# we recommend to use conda, please install the required packages (see environment.yml)\n",
        "# !conda env create -f environment.yml\n",
        "# !pip install transformers==4.27.4 datasets accelerate\n"
      ],
      "metadata": {
        "id": "frjIW4k-swSL"
      },
      "execution_count": null,
      "outputs": []
    },
    {
      "cell_type": "markdown",
      "source": [
        "## Start your experiment"
      ],
      "metadata": {
        "id": "8x-oGbZhsyL5"
      }
    },
    {
      "cell_type": "code",
      "source": [
        "!python train_6.py # check the arguments in train_6.py for more details\n"
      ],
      "metadata": {
        "id": "QbdNxl2Bs0c6"
      },
      "execution_count": null,
      "outputs": []
    }
  ]
}